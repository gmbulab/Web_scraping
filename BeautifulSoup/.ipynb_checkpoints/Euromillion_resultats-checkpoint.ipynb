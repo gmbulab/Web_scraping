{
 "cells": [
  {
   "cell_type": "code",
   "execution_count": 14,
   "metadata": {},
   "outputs": [],
   "source": [
    "from bs4 import BeautifulSoup\n",
    "import requests\n",
    "import pandas as pd"
   ]
  },
  {
   "cell_type": "code",
   "execution_count": 15,
   "metadata": {},
   "outputs": [],
   "source": [
    "annee =  list(range(2004,2021))\n",
    "url = 'http://www.tirage-euromillions.net/euromillions/annees/annee-'"
   ]
  },
  {
   "cell_type": "code",
   "execution_count": 16,
   "metadata": {},
   "outputs": [],
   "source": [
    "global_df_num = pd.DataFrame(index=range(650))\n",
    "global_df_star = pd.DataFrame(index=range(650))\n",
    "len_num = []\n",
    "len_star=[]"
   ]
  },
  {
   "cell_type": "code",
   "execution_count": null,
   "metadata": {},
   "outputs": [],
   "source": [
    "for an in annee : \n",
    "    numero = []\n",
    "    etoile = []\n",
    "    r= requests.get(url+str(an)+'/').text\n",
    "    soup = BeautifulSoup(r, 'html.parser')\n",
    "    num = soup.find_all(class_='game_point')\n",
    "    star = soup.find_all(class_='star_small')\n",
    "    df_num = pd.DataFrame(index =range(len(num)))\n",
    "    df_star = pd.DataFrame(index =range(len(star)))\n",
    "    len_num.append(len(num))\n",
    "    len_star.append(len(star))\n",
    "    for i in range(len(num)) : \n",
    "        data_num = num[i].text.replace(u'\\xa0', '')\n",
    "        numero.append(data_num)\n",
    "    for i in range(len(star)) : \n",
    "        data_star = star[i].text.replace(u'\\xa0', '')\n",
    "        etoile.append(data_star)  \n",
    "    \n",
    "    df_num['%s'%an] = numero\n",
    "    df_star['%s'%an] = etoile\n",
    "    global_df_num=global_df_num.join(df_num)\n",
    "    global_df_star=global_df_star.join(df_star)"
   ]
  },
  {
   "cell_type": "code",
   "execution_count": null,
   "metadata": {},
   "outputs": [],
   "source": [
    "global_df_num = global_df_num.dropna(axis=0, how='all')\n",
    "global_df_star = global_df_star.dropna(axis=0, how='all')"
   ]
  },
  {
   "cell_type": "code",
   "execution_count": 13,
   "metadata": {},
   "outputs": [
    {
     "data": {
      "text/plain": [
       "(525, 17)"
      ]
     },
     "execution_count": 13,
     "metadata": {},
     "output_type": "execute_result"
    }
   ],
   "source": [
    "global_df_star.shape"
   ]
  },
  {
   "cell_type": "code",
   "execution_count": 12,
   "metadata": {},
   "outputs": [],
   "source": [
    "writer = pd.ExcelWriter('Euro_million.xlsx', engine='xlsxwriter')\n",
    "global_df_num.to_excel(writer, sheet_name='Num')\n",
    "global_df_star.to_excel(writer, sheet_name='Star')\n",
    "writer.save()"
   ]
  },
  {
   "cell_type": "code",
   "execution_count": null,
   "metadata": {},
   "outputs": [],
   "source": []
  },
  {
   "cell_type": "code",
   "execution_count": null,
   "metadata": {},
   "outputs": [],
   "source": [
    "print(max(len_num))\n",
    "print(max(len_star))"
   ]
  },
  {
   "cell_type": "code",
   "execution_count": null,
   "metadata": {},
   "outputs": [],
   "source": []
  }
 ],
 "metadata": {
  "kernelspec": {
   "display_name": "Python 3",
   "language": "python",
   "name": "python3"
  },
  "language_info": {
   "codemirror_mode": {
    "name": "ipython",
    "version": 3
   },
   "file_extension": ".py",
   "mimetype": "text/x-python",
   "name": "python",
   "nbconvert_exporter": "python",
   "pygments_lexer": "ipython3",
   "version": "3.6.5"
  }
 },
 "nbformat": 4,
 "nbformat_minor": 2
}
