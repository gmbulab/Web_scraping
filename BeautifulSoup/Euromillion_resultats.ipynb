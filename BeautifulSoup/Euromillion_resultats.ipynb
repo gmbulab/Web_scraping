{
 "cells": [
  {
   "cell_type": "code",
   "execution_count": 1,
   "metadata": {},
   "outputs": [],
   "source": [
    "from bs4 import BeautifulSoup\n",
    "import requests\n",
    "import pandas as pd"
   ]
  },
  {
   "cell_type": "code",
   "execution_count": 6,
   "metadata": {},
   "outputs": [],
   "source": [
    "annee =  list(range(2004,2021))\n",
    "url = 'http://www.tirage-euromillions.net/euromillions/annees/annee-'"
   ]
  },
  {
   "cell_type": "code",
   "execution_count": 7,
   "metadata": {},
   "outputs": [],
   "source": [
    "global_df_num = pd.DataFrame(index=range(650))\n",
    "global_df_star = pd.DataFrame(index=range(650))"
   ]
  },
  {
   "cell_type": "code",
   "execution_count": 8,
   "metadata": {},
   "outputs": [
    {
     "name": "stdout",
     "output_type": "stream",
     "text": [
      "235\n",
      "2004\n",
      "260\n",
      "2005\n",
      "260\n",
      "2006\n",
      "260\n",
      "2007\n",
      "260\n",
      "260\n",
      "265\n",
      "2010\n",
      "430\n",
      "520\n",
      "525\n",
      "520\n",
      "520\n",
      "2015\n",
      "525\n",
      "520\n",
      "520\n",
      "525\n",
      "250\n",
      "2020\n"
     ]
    }
   ],
   "source": [
    "for an in annee : \n",
    "    numero = []\n",
    "    etoile = []\n",
    "    r= requests.get(url+str(an)+'/').text\n",
    "    soup = BeautifulSoup(r, 'html.parser')\n",
    "    num = soup.find_all(class_='game_point')\n",
    "    star = soup.find_all(class_='star_small')\n",
    "    df_num = pd.DataFrame(index =range(len(num)))\n",
    "    df_star = pd.DataFrame(index =range(len(star)))\n",
    "\n",
    "    for i in range(len(num)) : \n",
    "        data_num = num[i].text.replace(u'\\xa0', '')\n",
    "        numero.append(data_num)\n",
    "    for i in range(len(star)) : \n",
    "        data_star = star[i].text.replace(u'\\xa0', '')\n",
    "        etoile.append(data_star)  \n",
    "\n",
    "    \n",
    "    df_num['%s'%an] = numero\n",
    "    df_star['%s'%an] = etoile\n",
    "    global_df_num=global_df_num.join(df_num).dropna(axis=0, how='all')\n",
    "    global_df_star=global_df_star.join(df_num).dropna(axis=0, how='all')"
   ]
  }
 ],
 "metadata": {
  "kernelspec": {
   "display_name": "Python 3",
   "language": "python",
   "name": "python3"
  },
  "language_info": {
   "codemirror_mode": {
    "name": "ipython",
    "version": 3
   },
   "file_extension": ".py",
   "mimetype": "text/x-python",
   "name": "python",
   "nbconvert_exporter": "python",
   "pygments_lexer": "ipython3",
   "version": "3.6.5"
  }
 },
 "nbformat": 4,
 "nbformat_minor": 2
}
