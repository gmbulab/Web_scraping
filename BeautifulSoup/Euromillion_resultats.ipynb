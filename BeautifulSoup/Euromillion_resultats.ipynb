{
 "cells": [
  {
   "cell_type": "code",
   "execution_count": 1,
   "metadata": {},
   "outputs": [],
   "source": [
    "from bs4 import BeautifulSoup\n",
    "import requests\n",
    "import pandas as pd"
   ]
  },
  {
   "cell_type": "code",
   "execution_count": 6,
   "metadata": {},
   "outputs": [],
   "source": [
    "annee =  list(range(2004,2021))\n",
    "url = 'http://www.tirage-euromillions.net/euromillions/annees/annee-'"
   ]
  },
  {
   "cell_type": "code",
   "execution_count": 7,
   "metadata": {},
   "outputs": [],
   "source": [
    "global_df_num = pd.DataFrame(index=range(650))\n",
    "global_df_star = pd.DataFrame(index=range(650))"
   ]
  },
  {
   "cell_type": "code",
   "execution_count": null,
   "metadata": {},
   "outputs": [
    {
     "name": "stdout",
     "output_type": "stream",
     "text": [
      "235\n",
      "2004\n",
      "260\n",
      "2005\n",
      "260\n",
      "2006\n",
      "260\n",
      "2007\n"
     ]
    }
   ],
   "source": [
    "for an in annee : \n",
    "    numero = []\n",
    "    etoile = []\n",
    "    r= requests.get(url+str(an)+'/').text\n",
    "    soup = BeautifulSoup(r, 'html.parser')\n",
    "    num = soup.find_all(class_='game_point')\n",
    "    star = soup.find_all(class_='star_small')\n",
    "    df_num = pd.DataFrame(index =range(len(num)))\n",
    "    df_star = pd.DataFrame(index =range(len(star)))\n",
    "    print(len(num))\n",
    "    for i in range(len(num)) : \n",
    "        data_num = num[i].text.replace(u'\\xa0', '')\n",
    "        numero.append(data_num)\n",
    "    for i in range(len(star)) : \n",
    "        data_star = star[i].text.replace(u'\\xa0', '')\n",
    "        etoile.append(data_star)  \n",
    "    if an in (2004,2005,2006,2007,2010,2015,2020): \n",
    "        print(an)\n",
    "    \n",
    "    df_num['%s'%an] = numero\n",
    "    df_star['%s'%an] = etoile\n",
    "    global_df_num=global_df_num.join(df_num).dropna(axis=0, how='all')\n",
    "    global_df_star=global_df_star.join(df_num).dropna(axis=0, how='all')"
   ]
  },
  {
   "cell_type": "code",
   "execution_count": 5,
   "metadata": {},
   "outputs": [],
   "source": [
    "writer = pd.ExcelWriter('Euro_million.xlsx', engine='xlsxwriter')\n",
    "global_df_num.to_excel(writer, sheet_name='Num')\n",
    "global_df_star.to_excel(writer, sheet_name='Star')\n",
    "writer.save()"
   ]
  },
  {
   "cell_type": "code",
   "execution_count": null,
   "metadata": {},
   "outputs": [],
   "source": []
  },
  {
   "cell_type": "code",
   "execution_count": null,
   "metadata": {},
   "outputs": [],
   "source": []
  },
  {
   "cell_type": "code",
   "execution_count": null,
   "metadata": {},
   "outputs": [],
   "source": [
    "for an in annee : \n",
    "    r= requests.get(url+str(an)+'/').text\n",
    "    soup = BeautifulSoup(r, 'html.parser')\n",
    "    num = soup.find_all(class_='game_point')\n",
    "        for i in len(num) : \n",
    "            data={}\n",
    "            data['N1'] = num[0+i].text.replace(u'\\xa0', '')\n",
    "            data['N2'] = num[1+i].text.replace(u'\\xa0', '')\n",
    "            data['N3'] = num[2+i].text.replace(u'\\xa0', '')\n",
    "            data['N4'] = num[3+i].text.replace(u'\\xa0', '')\n",
    "            data['N5'] = num[4+i].text.replace(u'\\xa0', '')\n",
    "            #data['E1'] = \n",
    "            #data['E2'] = \n",
    "    th = soup.find_all('th')\n",
    "    print(th[1].text.replace(u'\\xa0', ''))\n"
   ]
  },
  {
   "cell_type": "code",
   "execution_count": null,
   "metadata": {},
   "outputs": [],
   "source": [
    "print(soup.prettify())"
   ]
  },
  {
   "cell_type": "code",
   "execution_count": null,
   "metadata": {},
   "outputs": [],
   "source": [
    "r= requests.get('http://www.tirage-euromillions.net/euromillions/annees/annee-2004/')\n",
    "r.text\n",
    "        "
   ]
  },
  {
   "cell_type": "code",
   "execution_count": null,
   "metadata": {},
   "outputs": [],
   "source": [
    "soup = BeautifulSoup('http://www.tirage-euromillions.net/euromillions/annees/annee-2004/', 'html.parser')\n",
    "td = soup.find_all('div', class_='game_point')\n",
    "print(td)"
   ]
  },
  {
   "cell_type": "code",
   "execution_count": null,
   "metadata": {},
   "outputs": [],
   "source": []
  }
 ],
 "metadata": {
  "kernelspec": {
   "display_name": "Python 3",
   "language": "python",
   "name": "python3"
  },
  "language_info": {
   "codemirror_mode": {
    "name": "ipython",
    "version": 3
   },
   "file_extension": ".py",
   "mimetype": "text/x-python",
   "name": "python",
   "nbconvert_exporter": "python",
   "pygments_lexer": "ipython3",
   "version": "3.6.5"
  }
 },
 "nbformat": 4,
 "nbformat_minor": 2
}
