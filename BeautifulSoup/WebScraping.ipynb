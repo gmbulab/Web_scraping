{
 "cells": [
  {
   "cell_type": "code",
   "execution_count": 10,
   "metadata": {},
   "outputs": [],
   "source": [
    "import requests\n",
    "from bs4 import BeautifulSoup\n",
    "import pandas as pd\n",
    "\n",
    "pager_last = 27\n",
    "all_data = []\n",
    "\n",
    "def extractData(url, num_page):\n",
    "    result = requests.get(url + str(num_page))\n",
    "    soup = BeautifulSoup(result.text, 'html.parser')\n",
    "    length_tableau = len(soup.find_all(class_=\"views-field views-field-title-field\"))\n",
    "    for i in range(1, length_tableau ):\n",
    "        nom_centre = soup.find_all(class_=\"views-field views-field-title-field\")[i].text.replace(u'\\xa0', '')\n",
    "        ville = soup.find_all(class_=\"views-field views-field-field-city\")[i].text.replace(u'\\xa0', '')\n",
    "        etat = soup.find_all(class_=\"views-field views-field-field-status\")[i].text.replace(u'\\xa0', '')\n",
    "        surface = soup.find_all(class_=\"views-field views-field-field-shopping-center-surface\")[i].text.replace(u'\\xa0',\n",
    "                                                                                                                '')\n",
    "        nbr_boutique = soup.find_all(class_=\"views-field views-field-field-number-of-shops\")[i].text.replace(u'\\xa0',\n",
    "                                                                                                             '')\n",
    "        contact = soup.find_all(class_=\"views-field views-field-field-contact\")[i].text.replace(u'\\xa0', '')\n",
    "\n",
    "        data = {}\n",
    "        data['Nom commercial du site'] = nom_centre\n",
    "        data['VIlle'] = ville\n",
    "        data['Etat'] = etat\n",
    "        data['Surface GLA'] = surface\n",
    "        data['Nombre de boutiques'] = nbr_boutique\n",
    "        data['Contact'] = contact\n",
    "\n",
    "        all_data.append(data)\n",
    "\n",
    "\n",
    "    return all_data\n",
    "\n",
    "for j in range(int(pager_last)):\n",
    "    all_data = extractData('https://www.ceetrus.com/fr/implantations-sites-commerciaux?page=', j)\n",
    "\n",
    "\n",
    "def saveToxl(all_data):\n",
    "    df = pd.DataFrame(all_data)\n",
    "    writer = pd.ExcelWriter('data_commer.xlsx', engine='xlsxwriter')\n",
    "    df.to_excel(writer, sheet_name='Sheet1')\n",
    "    writer.save()\n",
    "\n",
    "\n",
    "saveToxl(all_data)"
   ]
  },
  {
   "cell_type": "code",
   "execution_count": null,
   "metadata": {},
   "outputs": [],
   "source": []
  }
 ],
 "metadata": {
  "kernelspec": {
   "display_name": "Python 3",
   "language": "python",
   "name": "python3"
  },
  "language_info": {
   "codemirror_mode": {
    "name": "ipython",
    "version": 3
   },
   "file_extension": ".py",
   "mimetype": "text/x-python",
   "name": "python",
   "nbconvert_exporter": "python",
   "pygments_lexer": "ipython3",
   "version": "3.6.5"
  }
 },
 "nbformat": 4,
 "nbformat_minor": 2
}
